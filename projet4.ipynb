{
 "cells": [
  {
   "cell_type": "code",
   "execution_count": null,
   "id": "01fa0359",
   "metadata": {},
   "outputs": [],
   "source": [
    "import pandas as pd\n",
    "\n",
    "books = pd.read_csv('books.csv')\n",
    "ratings = pd.read_csv('ratings.csv')\n",
    "book_tags = pd.read_csv('book_tags.csv')\n",
    "tags = pd.read_csv('tags.csv')\n",
    "\n",
    "# Create clean csv\n",
    "books.to_csv('books_clean.csv', index=False)\n",
    "ratings.to_csv('ratings_clean.csv', index=False)\n",
    "book_tags.to_csv('books_tags_clean.csv', index=False)\n",
    "tags.to_csv('tags_clean.csv', index=False)"
   ]
  },
  {
   "cell_type": "markdown",
   "id": "f8f799c0",
   "metadata": {},
   "source": [
    "Packaging and datasets used"
   ]
  },
  {
   "cell_type": "code",
   "execution_count": null,
   "id": "b6a080b8",
   "metadata": {},
   "outputs": [
    {
     "name": "stdout",
     "output_type": "stream",
     "text": [
      "Test valeurs pas présentes : \n",
      "[ 2767052    41865 11870085 ...   208324    77431  8565083]\n"
     ]
    }
   ],
   "source": [
    "# print(\"Affichage types données books.csv\")\n",
    "# print(books.dtypes)\n",
    "\n",
    "# print(\"Affichage type données ratings.csv\")\n",
    "# print(ratings_clean.dtypes)\n",
    "\n",
    "# print(\"Affichage type données book_tags_clean.csv\")\n",
    "# print(book_tags_clean.dtypes)\n",
    "\n",
    "# print(\"Affichage type données tags_clean.csv\")\n",
    "# print(tags_clean.dtypes)\n",
    "\n",
    "\n",
    "\n",
    "# print(\"Vérification doublons\")\n",
    "# print(f\"Doublons books_clean.csv : {books_clean.duplicated().sum()}\")\n",
    "# print(f\"Doublons ratings_clean.csv : {ratings_clean.duplicated().sum()}\")\n",
    "# print(f\"Doublons book_tags_clean.csv : {book_tags_clean.duplicated().sum()}\")\n",
    "# print(f\"Doublons tags_clean.csv : {tags_clean.csv.duplicated().sum()}\")\n",
    "\n",
    "\n",
    "# Delete duplicates\n",
    "books_clean = books.drop_duplicates()\n",
    "ratings_clean = ratings.drop_duplicates()\n",
    "book_tags_clean = book_tags.drop_duplicates()\n",
    "tags_clean = tags.drop_duplicates()\n",
    "\n",
    "\n",
    "# Delete spaces\n",
    "books_clean.columns = books_clean.columns.str.strip().str.lower().str.replace(' ', '')\n",
    "ratings_clean.columns = ratings_clean.columns.str.strip().str.lower().str.replace(' ', '')\n",
    "book_tags_clean.columns = book_tags_clean.columns.str.strip().str.lower().str.replace(' ', '')\n",
    "tags_clean.columns = tags_clean.columns.str.strip().str.lower().str.replace(' ', '')\n",
    "\n",
    "\n",
    "\n",
    "\n",
    "\n",
    "# print(\"Valeurs manquantes books_clean.csv\")\n",
    "# print(books_clean.isnull().sum())\n",
    "\n",
    "# print(\"Valeurs manquantes ratings_clean.csv\")\n",
    "# print(ratings_clean.isnull().sum())\n",
    "\n",
    "# print(\"Valeurs manquantes book_tags\")\n",
    "# print(book_tags_clean.isnull().sum())\n",
    "\n",
    "# print(\"Valeurs manquantes tags_clean.csv\")\n",
    "# print(tags_clean.isnull().sum())\n",
    "\n",
    "# Delete missing values\n",
    "books_clean = books_clean.dropna()\n",
    "ratings_clean = ratings_clean.dropna()\n",
    "book_tags_clean = book_tags_clean.dropna()\n",
    "tags_clean = tags_clean.dropna()\n",
    "\n",
    "\n",
    "\n",
    "\n",
    "# Values are between 1 and 5\n",
    "ratings_clean = ratings_clean[(ratings_clean['rating'] > 0) & (ratings_clean['rating'] < 6)]\n",
    "print(\"Test valeurs pas présentes : \")\n",
    "test = books_clean[~books_clean['book_id'].isin(ratings_clean['book_id'])]\n",
    "print(test['book_id'].unique())\n",
    "\n",
    "# Delete \n",
    "tags_clean = tags_clean[tags_clean['tag_name'].str.strip() != '']\n",
    "tags_clean['tag_name'] = tags_clean['tag_name'].str.strip().str.lower()\n",
    "tags_clean = tags_clean[~tags_clean['tag_name'].str.contains(r'\\d')]\n",
    "tags_clean = tags_clean[tags_clean['tag_name'].str.len() > 1]\n",
    "tags_clean = tags_clean[~tags_clean['tag_name'].str.contains(r'[^a-z0-9_\\-\\s]', regex=True)]\n",
    "tags_clean = tags_clean.drop_duplicates(subset=['tag_id', 'tag_name'])\n",
    "\n",
    "\n"
   ]
  },
  {
   "cell_type": "markdown",
   "id": "26104d92",
   "metadata": {},
   "source": [
    "Formated datasets, created new ones without duplicates and missings datas"
   ]
  }
 ],
 "metadata": {
  "kernelspec": {
   "display_name": "Python 3",
   "language": "python",
   "name": "python3"
  },
  "language_info": {
   "codemirror_mode": {
    "name": "ipython",
    "version": 3
   },
   "file_extension": ".py",
   "mimetype": "text/x-python",
   "name": "python",
   "nbconvert_exporter": "python",
   "pygments_lexer": "ipython3",
   "version": "3.12.3"
  }
 },
 "nbformat": 4,
 "nbformat_minor": 5
}
